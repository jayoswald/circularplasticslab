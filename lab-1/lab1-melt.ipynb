{
 "cells": [
  {
   "cell_type": "code",
   "execution_count": null,
   "id": "563aef69-aee7-4f90-9078-f4dd9a770e89",
   "metadata": {},
   "outputs": [],
   "source": [
    "! mpiexec -n ${SLURM_CPUS_PER_TASK} --oversubscribe lmp_mpi -in in.melt"
   ]
  },
  {
   "cell_type": "code",
   "execution_count": null,
   "id": "62b3db84-6d75-4df7-b6e4-23cb28c10d56",
   "metadata": {},
   "outputs": [],
   "source": [
    "import numpy\n",
    "from matplotlib import pyplot\n",
    "fid = open('log.lammps')\n",
    "for line in fid:\n",
    "    if 'Step' in line:\n",
    "        columns = line.split()\n",
    "        break\n",
    "thermo_data = []\n",
    "for line in fid:\n",
    "    if 'Loop' in line:\n",
    "        break\n",
    "    row = [float(s) for s in line.split()]\n",
    "    if len(row) == 5:\n",
    "        thermo_data.append(row)\n",
    "thermo_data = numpy.array(thermo_data)\n",
    "\n",
    "T = thermo_data[:,columns.index('Temp')]\n",
    "e = thermo_data[:,columns.index('TotEng')]\n",
    "v = thermo_data[:,columns.index('Volume')]\n",
    "\n",
    "fig, (ax1, ax2) = pyplot.subplots(1, 2, figsize=(6,3), tight_layout=1)\n",
    "ax1.axvline(1.0, dashes=(1,1), c='k', lw=0.5)\n",
    "ax1.plot(T, e, '.')\n",
    "ax1.set_xlabel('Temperature (LJ unit)')\n",
    "ax1.set_ylabel('Total energy (LJ unit)')\n",
    "\n",
    "ax2.axvline(1.0, dashes=(1,1), c='k', lw=0.5)\n",
    "ax2.plot(T, v, '.')\n",
    "ax2.set_xlabel('Temperature (LJ unit)')\n",
    "ax2.set_ylabel('Volume (LJ unit)')"
   ]
  },
  {
   "cell_type": "code",
   "execution_count": null,
   "id": "6a8744a8-bc25-4ca3-99f5-96998c0d9b76",
   "metadata": {},
   "outputs": [],
   "source": [
    "from PIL import Image\n",
    "from IPython.display import display\n",
    "\n",
    "display(Image.open('image.000.jpg'))\n",
    "display(Image.open('image.5000.jpg'))"
   ]
  },
  {
   "cell_type": "code",
   "execution_count": null,
   "id": "ce843b01-35da-4474-98db-c5b942884543",
   "metadata": {},
   "outputs": [],
   "source": []
  }
 ],
 "metadata": {
  "kernelspec": {
   "display_name": "Python 3 (ipykernel)",
   "language": "python",
   "name": "python3"
  },
  "language_info": {
   "codemirror_mode": {
    "name": "ipython",
    "version": 3
   },
   "file_extension": ".py",
   "mimetype": "text/x-python",
   "name": "python",
   "nbconvert_exporter": "python",
   "pygments_lexer": "ipython3",
   "version": "3.11.6"
  }
 },
 "nbformat": 4,
 "nbformat_minor": 5
}
