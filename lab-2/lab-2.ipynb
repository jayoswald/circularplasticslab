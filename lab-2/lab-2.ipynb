{
 "cells": [
  {
   "cell_type": "code",
   "execution_count": null,
   "id": "aa1e88fe-c5c3-4a6b-baa0-b9f7bf51f264",
   "metadata": {},
   "outputs": [],
   "source": [
    "import sys\n",
    "sys.path.append('../polysim')\n",
    "import builder\n",
    "import vmd\n",
    "import lammps_log\n",
    "from matplotlib import pyplot\n",
    "from PIL import Image\n",
    "from IPython.display import display"
   ]
  },
  {
   "cell_type": "code",
   "execution_count": null,
   "id": "22e1603a-2986-4f70-acbc-ab5dc745e1ac",
   "metadata": {},
   "outputs": [],
   "source": [
    "system = builder.construct_random_chains(molecules=100, molecule_size=100)\n",
    "system.write_lammps_data('polymer.lammps')"
   ]
  },
  {
   "cell_type": "code",
   "execution_count": null,
   "id": "e3826123-43be-4737-b1af-024cf0895ac1",
   "metadata": {},
   "outputs": [],
   "source": [
    "! mpiexec -n ${SLURM_CPUS_PER_TASK} --oversubscribe lmp_mpi -in in.lammps -screen none"
   ]
  },
  {
   "cell_type": "code",
   "execution_count": null,
   "id": "20dcb32b-726d-41d9-aee1-2efcd6468ffc",
   "metadata": {},
   "outputs": [],
   "source": [
    "vmd.draw_step('dump.nvelimit.lammpstrj', step=0)\n",
    "! convert vmdscene.dat.tga -trim -scale 75% polymer-0.png\n",
    "img = Image.open('polymer-0.png')\n",
    "display(img)"
   ]
  },
  {
   "cell_type": "code",
   "execution_count": null,
   "id": "b2449da6-464b-46b9-baf2-63894862f449",
   "metadata": {},
   "outputs": [],
   "source": [
    "vmd.draw_step('dump.nvelimit.lammpstrj', step=10)\n",
    "! convert vmdscene.dat.tga -trim -scale 75% polymer-10.png\n",
    "img = Image.open('polymer-20.png')\n",
    "display(img)"
   ]
  },
  {
   "cell_type": "code",
   "execution_count": null,
   "id": "42f35718-fc21-4f78-9f90-b93ed469fa1a",
   "metadata": {},
   "outputs": [],
   "source": [
    "log = lammps_log.read_log('log.lammps')\n",
    "fig, (ax1, ax2) = pyplot.subplots(1,2, figsize=(6,3))\n",
    "ax1.plot(log[2]['Temp'], log[2]['Volume'], '.')\n",
    "ax1.set_ylabel('Volume (LJ units)')\n",
    "ax1.set_xlabel('Temperature (LJ units)')\n",
    "ax2.plot(log[2]['Temp'], log[2]['TotEng'], '.')\n",
    "ax2.set_xlabel('Temperature (LJ units)')\n",
    "ax2.set_ylabel('Total Energy (LJ units)')\n",
    "pyplot.tight_layout()"
   ]
  }
 ],
 "metadata": {
  "kernelspec": {
   "display_name": "Python 3 (ipykernel)",
   "language": "python",
   "name": "python3"
  },
  "language_info": {
   "codemirror_mode": {
    "name": "ipython",
    "version": 3
   },
   "file_extension": ".py",
   "mimetype": "text/x-python",
   "name": "python",
   "nbconvert_exporter": "python",
   "pygments_lexer": "ipython3",
   "version": "3.11.6"
  }
 },
 "nbformat": 4,
 "nbformat_minor": 5
}
