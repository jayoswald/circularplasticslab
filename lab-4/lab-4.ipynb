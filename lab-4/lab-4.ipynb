{
 "cells": [
  {
   "cell_type": "markdown",
   "id": "0970054d-0a26-4bec-877e-a52b1b5df058",
   "metadata": {},
   "source": [
    "# Phase segregation of a block polymer"
   ]
  },
  {
   "cell_type": "markdown",
   "id": "fae12008-3619-4edd-8b5d-6db8661100a8",
   "metadata": {},
   "source": [
    "### Import necessary modules"
   ]
  },
  {
   "cell_type": "code",
   "execution_count": null,
   "id": "aa1e88fe-c5c3-4a6b-baa0-b9f7bf51f264",
   "metadata": {},
   "outputs": [],
   "source": [
    "import sys\n",
    "sys.path.append('../polysim')\n",
    "import builder\n",
    "import vmd\n",
    "import os\n",
    "import lammps_log\n",
    "from glob import glob\n",
    "from matplotlib import pyplot\n",
    "from PIL import Image\n",
    "from IPython.display import display, Video\n",
    "import subprocess"
   ]
  },
  {
   "cell_type": "markdown",
   "id": "bbe8c349-c2cf-49db-8dba-d4f6b8a4e68f",
   "metadata": {},
   "source": [
    "### Builds initial MD system (diblock polymer model)"
   ]
  },
  {
   "cell_type": "code",
   "execution_count": null,
   "id": "22e1603a-2986-4f70-acbc-ab5dc745e1ac",
   "metadata": {},
   "outputs": [],
   "source": [
    "n = 200\n",
    "m = 100\n",
    "system = builder.construct_random_chains(molecules=n, molecule_size=m)\n",
    "\n",
    "# Change half the atoms in each change to type 2.\n",
    "for i in range(n):\n",
    "    for j in range(m):\n",
    "        if j > m // 2:\n",
    "            system.atom_type[j+i*m] = 2\n",
    "\n",
    "system.masses.append(1.0)\n",
    "system.write_lammps_data('polymer.lammps')"
   ]
  },
  {
   "cell_type": "markdown",
   "id": "4a2b321d-4289-47a0-8aae-279afb2d13d8",
   "metadata": {},
   "source": [
    "### Runs MD simulation (should take about 3 minutes)"
   ]
  },
  {
   "cell_type": "code",
   "execution_count": null,
   "id": "e3826123-43be-4737-b1af-024cf0895ac1",
   "metadata": {},
   "outputs": [],
   "source": [
    "! mpiexec -n ${SLURM_CPUS_PER_TASK} --oversubscribe lmp_mpi -in in.lammps"
   ]
  },
  {
   "cell_type": "markdown",
   "id": "239095d1-2587-4f86-bd61-4bc812b187d5",
   "metadata": {},
   "source": [
    "### VMD script for animating results (takes about 3 minutes)"
   ]
  },
  {
   "cell_type": "code",
   "execution_count": null,
   "id": "ce2e27ba-bea2-44cd-91ed-4b748925066e",
   "metadata": {},
   "outputs": [],
   "source": [
    "vmd_cmd = ['vmd', '-dispdev', 'none']\n",
    "vmd_script = '''\n",
    "mol new {dump.lammpstrj} type {lammpstrj} first 0 last -1 step 1 waitfor all autobonds off\n",
    "display projection Orthographic\n",
    "display shadows on\n",
    "display ambientocclusion on\n",
    "display depthcue off\n",
    "color Display Background white\n",
    "axes location Off\n",
    "\n",
    "mol modselect 0 0 type 2\n",
    "mol modstyle 0 0 VDW 0.2 12\n",
    "mol modcolor 0 0 Type\n",
    "mol modmaterial 0 0 AOChalkyvmd \n",
    "mol addrep 0\n",
    "mol modselect 1 0 type 1\n",
    "mol modstyle 1 0 VDW 0.2 12\n",
    "mol modcolor 1 0 Type\n",
    "mol modmaterial 1 0 AOChalky\n",
    "\n",
    "color Type 1 lime\n",
    "color Type 2 iceblue\n",
    "display update\n",
    "rotate x by 30\n",
    "rotate y by 30\n",
    "set numframes [molinfo 0 get numframes]\n",
    "for {set i 0} {$i < $numframes} {incr i} {\n",
    "animate goto $i\n",
    "set filename frames/frame[format \"%04d\" $i].tga\n",
    "render TachyonInternal $filename\n",
    "}\n",
    "quit '''"
   ]
  },
  {
   "cell_type": "code",
   "execution_count": null,
   "id": "42f35718-fc21-4f78-9f90-b93ed469fa1a",
   "metadata": {},
   "outputs": [],
   "source": [
    "if not os.path.exists('frames'):\n",
    "    os.mkdir('frames')\n",
    "out = subprocess.run(vmd_cmd, input=vmd_script, text=1, env=os.environ)\n",
    "for f in glob('frames/frame*.tga'):\n",
    "    cmd = ['convert', f, f.replace('tga', 'jpg')]\n",
    "    subprocess.run(cmd, capture_output=1, text=1)"
   ]
  },
  {
   "cell_type": "code",
   "execution_count": null,
   "id": "d69b0d8c-8891-45ee-8b7c-bdf3b0f42a26",
   "metadata": {},
   "outputs": [],
   "source": [
    "! ffmpeg -y -r 6 -f image2 -i frames/frame%04d.jpg -vf \"scale=640:-2\" -vcodec libx264 -pix_fmt yuv420p -crf 30 animation.mp4 &> /dev/null\n",
    "Video('animation.mp4')"
   ]
  },
  {
   "cell_type": "code",
   "execution_count": null,
   "id": "69a9f715-adca-400b-8c3f-4d71f54684c2",
   "metadata": {},
   "outputs": [],
   "source": []
  }
 ],
 "metadata": {
  "kernelspec": {
   "display_name": "Python 3 (ipykernel)",
   "language": "python",
   "name": "python3"
  },
  "language_info": {
   "codemirror_mode": {
    "name": "ipython",
    "version": 3
   },
   "file_extension": ".py",
   "mimetype": "text/x-python",
   "name": "python",
   "nbconvert_exporter": "python",
   "pygments_lexer": "ipython3",
   "version": "3.11.6"
  }
 },
 "nbformat": 4,
 "nbformat_minor": 5
}
