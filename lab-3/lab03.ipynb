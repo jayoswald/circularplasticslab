{
 "cells": [
  {
   "cell_type": "markdown",
   "id": "ae4dd9c6-757a-4f58-93ca-4279b2959f80",
   "metadata": {},
   "source": [
    "# Molecular diffusion study"
   ]
  },
  {
   "cell_type": "code",
   "execution_count": null,
   "id": "aa1e88fe-c5c3-4a6b-baa0-b9f7bf51f264",
   "metadata": {},
   "outputs": [],
   "source": [
    "import sys\n",
    "sys.path.append('../polysim')\n",
    "import builder\n",
    "import numpy\n",
    "from matplotlib import pyplot"
   ]
  },
  {
   "cell_type": "markdown",
   "id": "e36bfbbd-72b1-4e74-9473-abb584d4cc07",
   "metadata": {},
   "source": [
    "### Build a system containing 100 molecules each containing 100 beads."
   ]
  },
  {
   "cell_type": "code",
   "execution_count": null,
   "id": "22e1603a-2986-4f70-acbc-ab5dc745e1ac",
   "metadata": {},
   "outputs": [],
   "source": [
    "molecules = 100\n",
    "molecule_size = 100\n",
    "system = builder.construct_random_chains(molecules=molecules, molecule_size=molecule_size)\n",
    "system.write_lammps_data('polymer.lammps')"
   ]
  },
  {
   "cell_type": "code",
   "execution_count": null,
   "id": "e3826123-43be-4737-b1af-024cf0895ac1",
   "metadata": {},
   "outputs": [],
   "source": [
    "! mpiexec -n ${SLURM_CPUS_PER_TASK} --oversubscribe lmp_mpi -in in.lammps"
   ]
  },
  {
   "cell_type": "markdown",
   "id": "45faf216-245a-458a-a792-069c8f196950",
   "metadata": {},
   "source": [
    "### Reads the atomic trajectory file (dump file)"
   ]
  },
  {
   "cell_type": "code",
   "execution_count": null,
   "id": "2ee6ece1-91d1-44e9-9235-7990d5d17319",
   "metadata": {},
   "outputs": [],
   "source": [
    "fid = open('dump.lammpstrj')\n",
    "steps = []\n",
    "for line in fid:\n",
    "    if 'ITEM: TIMESTEP' in line:\n",
    "        timestep = int(next(fid))\n",
    "    elif 'ITEM: NUMBER OF ATOMS' in line:\n",
    "        n = int(next(fid))\n",
    "    elif 'ITEM: ATOMS' in line:\n",
    "        atom_data = numpy.loadtxt(fid, max_rows = n)\n",
    "        atom_data = atom_data[numpy.argsort(atom_data[:,0])]\n",
    "        steps.append(atom_data)\n",
    "\n",
    "time = []\n",
    "msd = []\n",
    "for i in range(1, len(steps)):\n",
    "    time.append(i*0.005 * 50)\n",
    "    msd.append(0.0)\n",
    "    for m in range(molecules):\n",
    "        i0 = m * molecule_size\n",
    "        i1 = (m+1) * molecule_size\n",
    "\n",
    "        com = numpy.mean(steps[i][i0:i1, -3:], axis=0)\n",
    "        com0 = numpy.mean(steps[0][i0:i1, -3:], axis=0)\n",
    "        \n",
    "        msd[-1] += numpy.sum((com - com0)**2)\n",
    "    msd[-1] /= molecules"
   ]
  },
  {
   "cell_type": "code",
   "execution_count": null,
   "id": "a11a1cd6-e3c1-4c9d-9e0d-117ec86b7826",
   "metadata": {},
   "outputs": [],
   "source": [
    "# Plots MSD vs time on a log-log plot.\n",
    "fig, ax = pyplot.subplots()\n",
    "ax.loglog(time, msd, '.')\n",
    "ax.set_xlabel('Time')\n",
    "ax.set_ylabel('MSD')\n",
    "slope = numpy.polyfit(numpy.log(time[5:]), numpy.log(msd[5:]), 1)[[0]]\n",
    "\n",
    "# See https://en.wikipedia.org/wiki/Mean_squared_displacement\n",
    "D = msd[-1] / (6*time[-1])\n",
    "print(f'Diffusion rate is {D:.3f}')"
   ]
  }
 ],
 "metadata": {
  "kernelspec": {
   "display_name": "Python 3 (ipykernel)",
   "language": "python",
   "name": "python3"
  },
  "language_info": {
   "codemirror_mode": {
    "name": "ipython",
    "version": 3
   },
   "file_extension": ".py",
   "mimetype": "text/x-python",
   "name": "python",
   "nbconvert_exporter": "python",
   "pygments_lexer": "ipython3",
   "version": "3.11.6"
  }
 },
 "nbformat": 4,
 "nbformat_minor": 5
}
